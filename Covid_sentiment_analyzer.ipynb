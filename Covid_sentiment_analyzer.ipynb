{
 "cells": [
  {
   "cell_type": "code",
   "execution_count": 1,
   "id": "167c8f2f-0c1b-4e37-98eb-e34749114cc4",
   "metadata": {},
   "outputs": [],
   "source": [
    "import numpy as np\n",
    "import pandas as pd\n",
    "import os\n",
    "from tensorflow import keras\n",
    "from tensorflow.keras.preprocessing import sequence\n",
    "from tensorflow.keras.preprocessing.text import Tokenizer\n",
    "from tensorflow.keras.preprocessing.sequence import pad_sequences\n",
    "from tensorflow.keras.models import Sequential, Model\n",
    "from tensorflow.keras.layers import Dense, Input, SimpleRNN\n",
    "from tensorflow.keras.layers import Embedding, LSTM, GRU\n",
    "from tensorflow.keras.optimizers import Adam\n",
    "from tensorflow.keras.optimizers.schedules import ExponentialDecay"
   ]
  },
  {
   "cell_type": "markdown",
   "id": "4f677686-aed9-43a5-b2a8-8178ae73aa12",
   "metadata": {},
   "source": [
    "I am using the Covid twitter dataset with the goal of creating a sentiment classification model. The dataset contains around 3800 tweets related to Covid, each associated with a sentiment (Extremely Negative, Negative, Neutral, Positive, Extremely Positive).\n",
    "\n",
    "The dataset can be accessed [here](https://www.kaggle.com/datasets/datatattle/covid-19-nlp-text-classification)."
   ]
  },
  {
   "cell_type": "code",
   "execution_count": 2,
   "id": "65380fab-2ffa-412b-9a7a-1153402d70a8",
   "metadata": {},
   "outputs": [
    {
     "data": {
      "text/html": [
       "<div>\n",
       "<style scoped>\n",
       "    .dataframe tbody tr th:only-of-type {\n",
       "        vertical-align: middle;\n",
       "    }\n",
       "\n",
       "    .dataframe tbody tr th {\n",
       "        vertical-align: top;\n",
       "    }\n",
       "\n",
       "    .dataframe thead th {\n",
       "        text-align: right;\n",
       "    }\n",
       "</style>\n",
       "<table border=\"1\" class=\"dataframe\">\n",
       "  <thead>\n",
       "    <tr style=\"text-align: right;\">\n",
       "      <th></th>\n",
       "      <th>ScreenName</th>\n",
       "      <th>Location</th>\n",
       "      <th>TweetAt</th>\n",
       "      <th>OriginalTweet</th>\n",
       "      <th>Sentiment</th>\n",
       "    </tr>\n",
       "    <tr>\n",
       "      <th>UserName</th>\n",
       "      <th></th>\n",
       "      <th></th>\n",
       "      <th></th>\n",
       "      <th></th>\n",
       "      <th></th>\n",
       "    </tr>\n",
       "  </thead>\n",
       "  <tbody>\n",
       "    <tr>\n",
       "      <th>3799</th>\n",
       "      <td>48751</td>\n",
       "      <td>London</td>\n",
       "      <td>16-03-2020</td>\n",
       "      <td>@MeNyrbie @Phil_Gahan @Chrisitv https://t.co/i...</td>\n",
       "      <td>Neutral</td>\n",
       "    </tr>\n",
       "    <tr>\n",
       "      <th>3800</th>\n",
       "      <td>48752</td>\n",
       "      <td>UK</td>\n",
       "      <td>16-03-2020</td>\n",
       "      <td>advice Talk to your neighbours family to excha...</td>\n",
       "      <td>Positive</td>\n",
       "    </tr>\n",
       "    <tr>\n",
       "      <th>3801</th>\n",
       "      <td>48753</td>\n",
       "      <td>Vagabonds</td>\n",
       "      <td>16-03-2020</td>\n",
       "      <td>Coronavirus Australia: Woolworths to give elde...</td>\n",
       "      <td>Positive</td>\n",
       "    </tr>\n",
       "    <tr>\n",
       "      <th>3802</th>\n",
       "      <td>48754</td>\n",
       "      <td>NaN</td>\n",
       "      <td>16-03-2020</td>\n",
       "      <td>My food stock is not the only one which is emp...</td>\n",
       "      <td>Positive</td>\n",
       "    </tr>\n",
       "    <tr>\n",
       "      <th>3803</th>\n",
       "      <td>48755</td>\n",
       "      <td>NaN</td>\n",
       "      <td>16-03-2020</td>\n",
       "      <td>Me, ready to go at supermarket during the #COV...</td>\n",
       "      <td>Extremely Negative</td>\n",
       "    </tr>\n",
       "  </tbody>\n",
       "</table>\n",
       "</div>"
      ],
      "text/plain": [
       "          ScreenName   Location     TweetAt  \\\n",
       "UserName                                      \n",
       "3799           48751     London  16-03-2020   \n",
       "3800           48752         UK  16-03-2020   \n",
       "3801           48753  Vagabonds  16-03-2020   \n",
       "3802           48754        NaN  16-03-2020   \n",
       "3803           48755        NaN  16-03-2020   \n",
       "\n",
       "                                              OriginalTweet  \\\n",
       "UserName                                                      \n",
       "3799      @MeNyrbie @Phil_Gahan @Chrisitv https://t.co/i...   \n",
       "3800      advice Talk to your neighbours family to excha...   \n",
       "3801      Coronavirus Australia: Woolworths to give elde...   \n",
       "3802      My food stock is not the only one which is emp...   \n",
       "3803      Me, ready to go at supermarket during the #COV...   \n",
       "\n",
       "                   Sentiment  \n",
       "UserName                      \n",
       "3799                 Neutral  \n",
       "3800                Positive  \n",
       "3801                Positive  \n",
       "3802                Positive  \n",
       "3803      Extremely Negative  "
      ]
     },
     "execution_count": 2,
     "metadata": {},
     "output_type": "execute_result"
    }
   ],
   "source": [
    "df_train = pd.read_csv('Data/Corona_NLP_train.csv', index_col=0, encoding='latin-1')\n",
    "df_test = pd.read_csv('Data/Corona_NLP_test.csv', index_col=0, encoding='latin-1')\n",
    "df_train.head()"
   ]
  },
  {
   "cell_type": "markdown",
   "id": "0d562129-b6dd-4f1d-aa11-66a145408844",
   "metadata": {},
   "source": [
    "We don't really need any information other than the tweets and their associated sentiment, so lets drop all the other columns"
   ]
  },
  {
   "cell_type": "code",
   "execution_count": 3,
   "id": "d9613bc8-9433-49c6-918e-3120fb70ef4a",
   "metadata": {},
   "outputs": [
    {
     "name": "stdout",
     "output_type": "stream",
     "text": [
      "<class 'pandas.core.frame.DataFrame'>\n",
      "Int64Index: 41157 entries, 3799 to 44955\n",
      "Data columns (total 2 columns):\n",
      " #   Column         Non-Null Count  Dtype \n",
      "---  ------         --------------  ----- \n",
      " 0   OriginalTweet  41157 non-null  object\n",
      " 1   Sentiment      41157 non-null  object\n",
      "dtypes: object(2)\n",
      "memory usage: 964.6+ KB\n"
     ]
    }
   ],
   "source": [
    "df_train.drop(['ScreenName', 'Location', 'TweetAt'], axis=1, inplace=True)\n",
    "df_test.drop(['ScreenName', 'Location', 'TweetAt'], axis=1, inplace=True)\n",
    "df_train.info()"
   ]
  },
  {
   "cell_type": "markdown",
   "id": "317f7a42-66ee-47bf-84c4-9aa516b02ea9",
   "metadata": {},
   "source": [
    "Next we just labeln encode the sentiment data to be represented in numerical form. For now I wont One-Hot encode the data as sentiment is an ordered class. Later on I will experiment with one-hot encoding for comparison."
   ]
  },
  {
   "cell_type": "code",
   "execution_count": 4,
   "id": "4ea31975-7d5a-4a3f-a5e6-ef5df7d0836e",
   "metadata": {},
   "outputs": [
    {
     "data": {
      "text/html": [
       "<div>\n",
       "<style scoped>\n",
       "    .dataframe tbody tr th:only-of-type {\n",
       "        vertical-align: middle;\n",
       "    }\n",
       "\n",
       "    .dataframe tbody tr th {\n",
       "        vertical-align: top;\n",
       "    }\n",
       "\n",
       "    .dataframe thead th {\n",
       "        text-align: right;\n",
       "    }\n",
       "</style>\n",
       "<table border=\"1\" class=\"dataframe\">\n",
       "  <thead>\n",
       "    <tr style=\"text-align: right;\">\n",
       "      <th></th>\n",
       "      <th>Sentiment_num</th>\n",
       "      <th>Sentiment</th>\n",
       "    </tr>\n",
       "    <tr>\n",
       "      <th>UserName</th>\n",
       "      <th></th>\n",
       "      <th></th>\n",
       "    </tr>\n",
       "  </thead>\n",
       "  <tbody>\n",
       "    <tr>\n",
       "      <th>1</th>\n",
       "      <td>0</td>\n",
       "      <td>Extremely Negative</td>\n",
       "    </tr>\n",
       "    <tr>\n",
       "      <th>2</th>\n",
       "      <td>3</td>\n",
       "      <td>Positive</td>\n",
       "    </tr>\n",
       "    <tr>\n",
       "      <th>3</th>\n",
       "      <td>4</td>\n",
       "      <td>Extremely Positive</td>\n",
       "    </tr>\n",
       "    <tr>\n",
       "      <th>4</th>\n",
       "      <td>1</td>\n",
       "      <td>Negative</td>\n",
       "    </tr>\n",
       "    <tr>\n",
       "      <th>5</th>\n",
       "      <td>2</td>\n",
       "      <td>Neutral</td>\n",
       "    </tr>\n",
       "    <tr>\n",
       "      <th>...</th>\n",
       "      <td>...</td>\n",
       "      <td>...</td>\n",
       "    </tr>\n",
       "    <tr>\n",
       "      <th>3794</th>\n",
       "      <td>3</td>\n",
       "      <td>Positive</td>\n",
       "    </tr>\n",
       "    <tr>\n",
       "      <th>3795</th>\n",
       "      <td>1</td>\n",
       "      <td>Negative</td>\n",
       "    </tr>\n",
       "    <tr>\n",
       "      <th>3796</th>\n",
       "      <td>2</td>\n",
       "      <td>Neutral</td>\n",
       "    </tr>\n",
       "    <tr>\n",
       "      <th>3797</th>\n",
       "      <td>0</td>\n",
       "      <td>Extremely Negative</td>\n",
       "    </tr>\n",
       "    <tr>\n",
       "      <th>3798</th>\n",
       "      <td>4</td>\n",
       "      <td>Extremely Positive</td>\n",
       "    </tr>\n",
       "  </tbody>\n",
       "</table>\n",
       "<p>3798 rows × 2 columns</p>\n",
       "</div>"
      ],
      "text/plain": [
       "          Sentiment_num           Sentiment\n",
       "UserName                                   \n",
       "1                     0  Extremely Negative\n",
       "2                     3            Positive\n",
       "3                     4  Extremely Positive\n",
       "4                     1            Negative\n",
       "5                     2             Neutral\n",
       "...                 ...                 ...\n",
       "3794                  3            Positive\n",
       "3795                  1            Negative\n",
       "3796                  2             Neutral\n",
       "3797                  0  Extremely Negative\n",
       "3798                  4  Extremely Positive\n",
       "\n",
       "[3798 rows x 2 columns]"
      ]
     },
     "execution_count": 4,
     "metadata": {},
     "output_type": "execute_result"
    }
   ],
   "source": [
    "labels = ['Extremely Negative', 'Negative', 'Neutral', 'Positive', 'Extremely Positive']\n",
    "df_test['Sentiment_num'] = df_test['Sentiment'].apply(lambda x: labels.index(x))\n",
    "df_train['Sentiment_num'] = df_train['Sentiment'].apply(lambda x: labels.index(x))\n",
    "df_test[['Sentiment_num', 'Sentiment']]"
   ]
  },
  {
   "cell_type": "markdown",
   "id": "504ee7a0-aeee-4320-a405-2abfd937f5e2",
   "metadata": {},
   "source": [
    "Before we start with any model building, lets take a look at the class balance between the 5 sentiments. "
   ]
  },
  {
   "cell_type": "code",
   "execution_count": 17,
   "id": "4b7eb559-a732-4af2-8799-af1ecd01a277",
   "metadata": {},
   "outputs": [
    {
     "name": "stdout",
     "output_type": "stream",
     "text": [
      "Sentiment\n",
      "Extremely Negative     6073\n",
      "Extremely Positive     7223\n",
      "Negative              10958\n",
      "Neutral                8332\n",
      "Positive              12369\n",
      "Name: Sentiment, dtype: int64\n"
     ]
    }
   ],
   "source": [
    "g = df_train.groupby(['Sentiment'])['Sentiment'].count()\n",
    "g2 = df_test.groupby(['Sentiment'])['Sentiment'].count()\n",
    "print(g+g2)"
   ]
  },
  {
   "cell_type": "code",
   "execution_count": 5,
   "id": "df52671d-7c0e-4d1f-9c86-06fad62bf0d2",
   "metadata": {},
   "outputs": [
    {
     "data": {
      "image/png": "[encoded data removed]",
      "text/plain": [
       "<Figure size 432x288 with 1 Axes>"
      ]
     },
     "metadata": {
      "needs_background": "light"
     },
     "output_type": "display_data"
    }
   ],
   "source": [
    "from sklearn import metrics as mt\n",
    "from matplotlib import pyplot as plt\n",
    "%matplotlib inline\n",
    "\n",
    "NUM_CLASSES = 5\n",
    "\n",
    "# print some stats of the data\n",
    "unique, c_train = np.unique(df_train['Sentiment'], return_counts=True)\n",
    "_, c_test = np.unique(df_test['Sentiment'], return_counts=True)\n",
    "tot_counts = np.add(c_train, c_test) # Combine counts from both training and testing\n",
    "\n",
    "idx = [0,2,3,4,1] # indexes so the instance counts are in order from extremely negative to extremely positive\n",
    "plt.bar(list(range(NUM_CLASSES)),tot_counts[idx])\n",
    "plt.xticks(list(range(NUM_CLASSES)), unique[idx], rotation='vertical')\n",
    "plt.ylabel(\"Number of Instances in Each Class\")\n",
    "plt.show()"
   ]
  },
  {
   "cell_type": "markdown",
   "id": "fdb5886c-e19e-43b8-936b-e494c1baa49e",
   "metadata": {},
   "source": [
    "They are not the most balanced classes in the world, with the Extremely negative and positive class differing by around 6000 instances. Both the Negative and Positive sentiments seem to be the most common, which is understandable as stronger emotions might be less common. Because of this imbalance, I will use k-folds in training to determine the best model, as k-folds works best with class imbalances.\n",
    "\n",
    "Here I use the keras Tokenizer to extract all the words from all the tweets in the dataset."
   ]
  },
  {
   "cell_type": "code",
   "execution_count": 22,
   "id": "81bd7e61-08b0-4804-8972-c7da53c86196",
   "metadata": {},
   "outputs": [
    {
     "data": {
      "image/png": "[encoded data removed]",
      "text/plain": [
       "<Figure size 432x288 with 1 Axes>"
      ]
     },
     "metadata": {
      "needs_background": "light"
     },
     "output_type": "display_data"
    }
   ],
   "source": [
    "from sklearn import metrics as mt\n",
    "from matplotlib import pyplot as plt\n",
    "%matplotlib inline\n",
    "\n",
    "NUM_CLASSES = 5\n",
    "\n",
    "# print some stats of the data\n",
    "df = pd.concat([df_test, df_train])\n",
    "unique, counts = np.unique(df['Sentiment'], return_counts=True)\n",
    "\n",
    "idx = [0,2,3,4,1] # indexes so the instance counts are in order from extremely negative to extremely positive\n",
    "plt.bar(list(range(NUM_CLASSES)),counts[idx])\n",
    "plt.xticks(list(range(NUM_CLASSES)), unique[idx], rotation='vertical')\n",
    "plt.ylabel(\"Number of Instances in Each Class\")\n",
    "plt.show()"
   ]
  },
  {
   "cell_type": "code",
   "execution_count": 24,
   "id": "608e327b-396c-4261-8f7d-bda9efa3058b",
   "metadata": {},
   "outputs": [
    {
     "name": "stdout",
     "output_type": "stream",
     "text": [
      "Found 90222 unique tokens. Distilled to 90222 top words.\n",
      "Shape of data tensor: (44955, 300)\n",
      "Shape of label tensor: (41157,)\n",
      "90222\n",
      "CPU times: user 2.77 s, sys: 52.8 ms, total: 2.82 s\n",
      "Wall time: 2.83 s\n"
     ]
    }
   ],
   "source": [
    "%%time\n",
    "from tensorflow.keras.preprocessing.text import Tokenizer\n",
    "from tensorflow.keras.preprocessing.sequence import pad_sequences\n",
    "\n",
    "NUM_TOP_WORDS = None # use entire vocabulary!\n",
    "MAX_ART_LEN = 300 # maximum number of words, max tweet length is 280 characters, added extra just in case\n",
    "\n",
    "#tokenize the text\n",
    "tokenizer = Tokenizer(num_words=NUM_TOP_WORDS)\n",
    "tokenizer.fit_on_texts(df.OriginalTweet)\n",
    "# save as sequences with integers replacing words\n",
    "sequences = tokenizer.texts_to_sequences(df.OriginalTweet)\n",
    "\n",
    "word_index = tokenizer.word_index\n",
    "NUM_TOP_WORDS = len(word_index) if NUM_TOP_WORDS==None else NUM_TOP_WORDS\n",
    "top_words = min((len(word_index),NUM_TOP_WORDS))\n",
    "print('Found %s unique tokens. Distilled to %d top words.' % (len(word_index),top_words))\n",
    "\n",
    "X = pad_sequences(sequences, maxlen=MAX_ART_LEN)\n",
    "\n",
    "y = df_train.Sentiment_num\n",
    "print('Shape of data tensor:', X.shape)\n",
    "print('Shape of label tensor:', y.shape)\n",
    "print(np.max(X))"
   ]
  },
  {
   "cell_type": "markdown",
   "id": "106f20cf-7151-46e6-8e7c-2674f8d3fe32",
   "metadata": {},
   "source": [
    "The tweets overall contained aroun 85k total unique words. Thats a lot of unique words! But we have to keep in mind misspellings, abbreviations, slang, etc. which might not be tokenized correctly. \n",
    "\n",
    "I decided to use the GLoVe embeddings initially, as this will be easier and higher performing than making my own embeddings. Here I had to choose between two embeddings, one trained on Wikipedia, and another on a large Twitter corpus. "
   ]
  },
  {
   "cell_type": "code",
   "execution_count": 25,
   "id": "32080fc5",
   "metadata": {},
   "outputs": [
    {
     "name": "stdout",
     "output_type": "stream",
     "text": [
      "Found 1193515 word vectors.\n",
      "Embedding Shape: (90223, 100) \n",
      " Total words found: 31404 \n",
      " Percentage: 34.80708910144863\n",
      "CPU times: user 23.5 s, sys: 1 s, total: 24.5 s\n",
      "Wall time: 24.8 s\n"
     ]
    }
   ],
   "source": [
    "%%time\n",
    "EMBED_SIZE = 100\n",
    "# the embed size should match the file you load glove from\n",
    "embeddings_index = {}\n",
    "# f = open('Data/glove.6B.100d.txt', encoding=\"utf8\")\n",
    "f = open('Data/glove/glove.twitter.27B.100d.txt', encoding=\"utf8\")\n",
    "\n",
    "# save key/array pairs of the embeddings\n",
    "#  the key of the dictionary is the word, the array is the embedding\n",
    "for line in f:\n",
    "    values = line.split()\n",
    "    word = values[0]\n",
    "    coefs = np.asarray(values[1:], dtype='float32')\n",
    "    embeddings_index[word] = coefs\n",
    "f.close()\n",
    "\n",
    "print('Found %s word vectors.' % len(embeddings_index))\n",
    "\n",
    "# now fill in the matrix, using the ordering from the\n",
    "#  keras word tokenizer from before\n",
    "found_words = 0\n",
    "embedding_matrix = np.zeros((len(word_index) + 1, EMBED_SIZE))\n",
    "for word, i in word_index.items():\n",
    "    embedding_vector = embeddings_index.get(word)\n",
    "    if embedding_vector is not None:\n",
    "        # words not found in embedding index will be ALL-ZEROS\n",
    "        embedding_matrix[i] = embedding_vector\n",
    "        found_words = found_words+1\n",
    "\n",
    "print(\"Embedding Shape:\",embedding_matrix.shape, \"\\n\",\n",
    "      \"Total words found:\",found_words, \"\\n\",\n",
    "      \"Percentage:\",100*found_words/embedding_matrix.shape[0])"
   ]
  },
  {
   "cell_type": "markdown",
   "id": "9e9ee525",
   "metadata": {},
   "source": [
    "35% is pretty low. However, given that we are using tweets, which do include lots of abbreviations and misspellings, it's not surprising. We will explore using different embedding strategies later on."
   ]
  },
  {
   "cell_type": "code",
   "execution_count": 26,
   "id": "6500b9c8-7513-4d42-959d-d290c4ada2f2",
   "metadata": {},
   "outputs": [],
   "source": [
    "# save this embedding now\n",
    "embedding_layer = Embedding(len(word_index) + 1,\n",
    "                            EMBED_SIZE,\n",
    "                            weights=[embedding_matrix],# here is the embedding getting saved\n",
    "                            input_length=MAX_ART_LEN,\n",
    "                            trainable=False)"
   ]
  },
  {
   "cell_type": "markdown",
   "id": "2af12980-8819-4883-8a0b-6bc97dadee2f",
   "metadata": {},
   "source": [
    "## LSTM Model"
   ]
  },
  {
   "cell_type": "markdown",
   "id": "054cb28c-8cbb-4727-ac47-f2aeedea2846",
   "metadata": {},
   "source": [
    "I will compare both the LSTM and the GRU architecture to get a sense of the how RNNs will perform against this dataset.\n",
    "\n",
    "First, I have a function to create an LSTM model using our embedding layer, a single LSTM layer and a Dense layer. The reason for the function is to make it easier if I decide to do k-folds for training."
   ]
  },
  {
   "cell_type": "code",
   "execution_count": 27,
   "id": "fcc3948d-d94b-48e6-af12-780d33bac013",
   "metadata": {},
   "outputs": [],
   "source": [
    "no_epochs=15"
   ]
  },
  {
   "cell_type": "code",
   "execution_count": 28,
   "id": "16b02f49-919f-4051-be34-3e4d6e00feea",
   "metadata": {},
   "outputs": [
    {
     "name": "stdout",
     "output_type": "stream",
     "text": [
      "Model: \"sequential\"\n",
      "_________________________________________________________________\n",
      " Layer (type)                Output Shape              Param #   \n",
      "=================================================================\n",
      " embedding (Embedding)       (None, 300, 100)          9022300   \n",
      "                                                                 \n",
      " lstm (LSTM)                 (None, 20)                9680      \n",
      "                                                                 \n",
      " dense (Dense)               (None, 5)                 105       \n",
      "                                                                 \n",
      "=================================================================\n",
      "Total params: 9,032,085\n",
      "Trainable params: 9,785\n",
      "Non-trainable params: 9,022,300\n",
      "_________________________________________________________________\n",
      "None\n"
     ]
    }
   ],
   "source": [
    "from tensorflow.keras.models import Sequential\n",
    "from tensorflow.keras.layers import Dense, LSTM\n",
    "\n",
    "def create_lstm_model(opt='rmsprop', neurons=20):\n",
    "    rnn_lstm = Sequential() # A class for stacking layers, each layer has one input and one output tensor\n",
    "    rnn_lstm.add(embedding_layer)\n",
    "    rnn_lstm.add(LSTM(neurons,dropout=0.2, recurrent_dropout=0.2)) # LSTM layer. neurons: number of cells. dropout: input units dropped. recur drop: units dropped between cells\n",
    "    rnn_lstm.add(Dense(NUM_CLASSES, activation\n",
    "                       ='sigmoid')) # normal NN layer, a*W=z\n",
    "    rnn_lstm.compile(loss='categorically_crossentropy',\n",
    "                     optimizer=opt,\n",
    "                     metrics=['accuracy']) # defines loss function, optimzers, and metrics to track\n",
    "    return rnn_lstm\n",
    "\n",
    "model = create_lstm_model()\n",
    "print(model.summary())"
   ]
  },
  {
   "cell_type": "markdown",
   "id": "71c87153-26dd-40d9-8f27-57857815eda7",
   "metadata": {},
   "source": [
    "Here I defined a function for training the model."
   ]
  },
  {
   "cell_type": "code",
   "execution_count": 17,
   "id": "95fb51ca-b99f-4bca-a5cc-5bfa78b602c6",
   "metadata": {},
   "outputs": [],
   "source": [
    "def train_model(model, X_train, y_train, X_test, y_test,epochs=no_epochs):\n",
    "    # history_lstm = []\n",
    "    tmp = model.fit(X_train, y_train, validation_data=(X_test, y_test), \n",
    "                       epochs=epochs, \n",
    "                       batch_size=64) # number of samples per batch of computation\n",
    "    # history_lstm.append( tmp )\n",
    "    return tmp"
   ]
  },
  {
   "cell_type": "markdown",
   "id": "9339e0e9-15ef-4f1d-907c-b4a25b09f21d",
   "metadata": {},
   "source": [
    "One important concept that is not usually outlined is the real reason for using K-folds and cross validation during model creation. The reason to use K-folds cross validation over normal train-test split comes down to imbalance within the dataset. If the dataset is small or the classes are very imbalanced, then the chances of the testing set having an improportional and unfair distribution is a lot higher. In this case, we split the data into K amount of folds, where each fold is used as the testing split during each iteration. By doing this, we can evaluate the average performance of our particular model over the entire dataset, being confident that the results are not skewed because of datset imbalance. \n",
    "\n",
    "The reasoning for doing this is not for actually training a specific iteration of a model that we will then deploy, as I previously believed. The reason for this cross validation is for accurate comparisons between models, where we will be able to choose the best model architecture and hyperparameters for our task. After all this comparison is finished and our model is selected, we would then train it using ALL of our data, as we want to use all the data we have access too."
   ]
  },
  {
   "cell_type": "code",
   "execution_count": null,
   "id": "9c292372-6c41-421e-b1e0-8226559420d8",
   "metadata": {},
   "outputs": [],
   "source": [
    "from sklearn.model_selection import StratifiedShuffleSplit\n",
    "from sklearn.metrics import accuracy_score\n",
    "\n",
    "sss = StatifiedShuffleSplit (n_splits=5, test_size = 0.2,\n",
    "                             random_state=12345)\n",
    "\n",
    "# store history for each fold to determie average performance later on\n",
    "lstm_history = []\n",
    "scores_lstm = []\n",
    "\n",
    "\n",
    "for index, (train_idx, test_idx) in enumerate(sss.split(X, y)):\n",
    "    print(\"Trianing on fold\" + str(index+1) + \"/5...\")\n",
    "    # Generating batches from the determined indices\n",
    "    X_train, X_test = X[train_idx], X[test_idx]\n",
    "    y_train, y_test = y[train_idx], X[test_idx]\n",
    "    fold_history = []\n",
    "    \n",
    "    # Create model \n",
    "    model = None\n",
    "    model = create_lstm_model(neurons=10)\n",
    "    \n",
    "    # train model\n",
    "    tmp = train_model(model, X_train, y_train, X_test, y_test)\n",
    "    \n",
    "    # save model weights for future runs and history\n",
    "    fold_history.append(tmp)\n",
    "    lstm_history.append(fold_history)\n",
    "    \n",
    "    y_hat = model.predict(X_test)\n",
    "    scores_lstm.append(accuracy_score(np.argmax(y_test, axis=1), np.argmax(y_hat, axis=1)))"
   ]
  },
  {
   "cell_type": "code",
   "execution_count": null,
   "id": "e630ba0b-746e-422c-9331-fabe5717f35a",
   "metadata": {},
   "outputs": [],
   "source": [
    "plt.bar([1,2,3,4,5],scores_lstm)\n",
    "plt.xticks([1,2,3],['1','2','3','4','5'])\n",
    "plt.ylim(0.5,0.7)\n",
    "plt.show()"
   ]
  },
  {
   "cell_type": "markdown",
   "id": "107e1187-70c0-4427-81e6-1be358377d2c",
   "metadata": {},
   "source": [
    "To get the best overall evaluation from this model, let's combine the history from each LSTM model so we can print out the loss curve and accuracy curve. Its important to remember that the whole point of this process is not to create a deployable trained model, but rather to analyze and compare different model architectures so we can determine which approach is best to move on with for this specific task."
   ]
  },
  {
   "cell_type": "code",
   "execution_count": null,
   "id": "11cfe981-ebf9-45cd-bf83-c92c3c01af91",
   "metadata": {},
   "outputs": [],
   "source": []
  }
 ],
 "metadata": {
  "kernelspec": {
   "display_name": "Python 3",
   "language": "python",
   "name": "python3"
  },
  "language_info": {
   "codemirror_mode": {
    "name": "ipython",
    "version": 3
   },
   "file_extension": ".py",
   "mimetype": "text/x-python",
   "name": "python",
   "nbconvert_exporter": "python",
   "pygments_lexer": "ipython3",
   "version": "3.8.8"
  }
 },
 "nbformat": 4,
 "nbformat_minor": 5
}
